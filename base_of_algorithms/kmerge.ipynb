{
 "cells": [
  {
   "cell_type": "markdown",
   "metadata": {},
   "source": [
    "### Test list"
   ]
  },
  {
   "cell_type": "code",
   "execution_count": 5,
   "metadata": {},
   "outputs": [],
   "source": [
    "arr = [345, -1, 14, 789, 23, 76, 55, -9, 4, 6 ,122, 665, 2342, 90]"
   ]
  },
  {
   "cell_type": "markdown",
   "metadata": {},
   "source": [
    "### k-way merge sort"
   ]
  },
  {
   "cell_type": "code",
   "execution_count": 8,
   "metadata": {},
   "outputs": [],
   "source": [
    "class KMergeSort(object):\n",
    "\n",
    "    def __init__(self, k):\n",
    "        self.k = k\n",
    "\n",
    "\n",
    "    def k_merge_sort(self, arr: list) -> list:\n",
    "        if len(arr) <= 1:\n",
    "            return arr\n",
    "        else:\n",
    "            n = len(arr)\n",
    "            chunk_size = n // self.k if n // self.k > 0 else 1\n",
    "            chunks = [arr[i:i+chunk_size] for i in range(0, n, chunk_size)]\n",
    "            sorted_chunks = [self.k_merge_sort(chunk) for chunk in chunks]\n",
    "            return self.merge(sorted_chunks)\n",
    "\n",
    "\n",
    "    def merge(self, sorted_chunks: list) -> list:\n",
    "        if len(sorted_chunks) == 1:\n",
    "            return sorted_chunks[0]\n",
    "        else:\n",
    "            mid = len(sorted_chunks) // 2\n",
    "            left = self.merge(sorted_chunks[:mid])\n",
    "            right = self.merge(sorted_chunks[mid:])\n",
    "            return self.merge_two_lists(left, right)\n",
    "\n",
    "\n",
    "    def merge_two_lists(self, left: list, right: list) -> list:\n",
    "        result = []\n",
    "        i = j = 0\n",
    "        while i < len(left) and j < len(right):\n",
    "            if left[i] < right[j]:\n",
    "                result.append(left[i])\n",
    "                i += 1\n",
    "            else:\n",
    "                result.append(right[j])\n",
    "                j += 1\n",
    "        result += left[i:]\n",
    "        result += right[j:]\n",
    "        return result"
   ]
  },
  {
   "cell_type": "markdown",
   "metadata": {},
   "source": [
    "### Output"
   ]
  },
  {
   "cell_type": "code",
   "execution_count": 10,
   "metadata": {},
   "outputs": [
    {
     "data": {
      "text/plain": [
       "[-9, -1, 4, 6, 14, 23, 55, 76, 90, 122, 345, 665, 789, 2342]"
      ]
     },
     "execution_count": 10,
     "metadata": {},
     "output_type": "execute_result"
    }
   ],
   "source": [
    "ms = KMergeSort(k=6)\n",
    "sorted_arr = ms.k_merge_sort(arr=arr)\n",
    "sorted_arr"
   ]
  }
 ],
 "metadata": {
  "kernelspec": {
   "display_name": "venv",
   "language": "python",
   "name": "python3"
  },
  "language_info": {
   "codemirror_mode": {
    "name": "ipython",
    "version": 3
   },
   "file_extension": ".py",
   "mimetype": "text/x-python",
   "name": "python",
   "nbconvert_exporter": "python",
   "pygments_lexer": "ipython3",
   "version": "3.10.11"
  },
  "orig_nbformat": 4
 },
 "nbformat": 4,
 "nbformat_minor": 2
}
