{
 "cells": [
  {
   "cell_type": "markdown",
   "metadata": {},
   "source": [
    "### Test data"
   ]
  },
  {
   "cell_type": "code",
   "execution_count": 13,
   "metadata": {},
   "outputs": [],
   "source": [
    "arr = [12, 11, 13, 5, 6, 7, 1, 2, 3, 4, 8, 9, 10, 14, 15, 16, 20]"
   ]
  },
  {
   "cell_type": "markdown",
   "metadata": {},
   "source": [
    "### 2-way merge sort v.1"
   ]
  },
  {
   "cell_type": "code",
   "execution_count": 14,
   "metadata": {},
   "outputs": [],
   "source": [
    "def merge_sort(arr):\n",
    "    if len(arr) > 1:                              \n",
    "        mid = len(arr) // 2                      \n",
    "        left = arr[:mid]                          \n",
    "        right = arr[mid:]                         \n",
    "        \n",
    "        merge_sort(left)                          \n",
    "        merge_sort(right) \n",
    "        \n",
    "        i = j = k = 0                            \n",
    "         \n",
    "        while i < len(left) and j < len(right): \n",
    "            if left[i] < right[j]:               \n",
    "                arr[k] = left[i]                 \n",
    "                i+=1\n",
    "            else:\n",
    "                arr[k] = right[j]\n",
    "                j+=1\n",
    "            k+=1\n",
    "        \n",
    "        while i < len(left):\n",
    "            arr[k] = left[i]\n",
    "            i+=1\n",
    "            k+=1\n",
    "        \n",
    "        while j < len(right):\n",
    "            arr[k] = right[j]\n",
    "            j+=1\n",
    "            k+=1\n",
    "    \n",
    "    return arr"
   ]
  },
  {
   "cell_type": "markdown",
   "metadata": {},
   "source": [
    "### Output"
   ]
  },
  {
   "cell_type": "code",
   "execution_count": 15,
   "metadata": {},
   "outputs": [
    {
     "data": {
      "text/plain": [
       "[1, 2, 3, 4, 5, 6, 7, 8, 9, 10, 11, 12, 13, 14, 15, 16, 20]"
      ]
     },
     "execution_count": 15,
     "metadata": {},
     "output_type": "execute_result"
    }
   ],
   "source": [
    "merge_sort(arr)"
   ]
  },
  {
   "cell_type": "markdown",
   "metadata": {},
   "source": [
    "### 2-way merge sort v.2"
   ]
  },
  {
   "cell_type": "code",
   "execution_count": 21,
   "metadata": {},
   "outputs": [],
   "source": [
    "from abc import ABC, abstractmethod\n",
    "\n",
    "\n",
    "class MergeSort2(ABC):\n",
    "    def __init__(self, array: list) -> None:\n",
    "        self.array = array\n",
    "\n",
    "    @abstractmethod\n",
    "    def sort(self) -> list:\n",
    "        pass\n",
    "\n",
    "    def _merge(self, left: list, right: list) -> list:\n",
    "        merged = []\n",
    "        left_index, right_index = 0, 0\n",
    "\n",
    "        while left_index < len(left) and right_index < len(right):\n",
    "            if left[left_index] <= right[right_index]:\n",
    "                merged.append(left[left_index])\n",
    "                left_index += 1\n",
    "            else:\n",
    "                merged.append(right[right_index])\n",
    "                right_index += 1\n",
    "\n",
    "        merged.extend(left[left_index:])\n",
    "        merged.extend(right[right_index:])\n",
    "        return merged\n",
    "\n",
    "\n",
    "class RecursiveMergeSort(MergeSort2):\n",
    "    def sort(self) -> list:\n",
    "        if len(self.array) <= 1:\n",
    "            return self.array\n",
    "\n",
    "        mid = len(self.array) // 2\n",
    "        left_half = self.array[:mid]\n",
    "        right_half = self.array[mid:]\n",
    "\n",
    "        left_merge_sort = RecursiveMergeSort(left_half)\n",
    "        right_merge_sort = RecursiveMergeSort(right_half)\n",
    "\n",
    "        left_sorted = left_merge_sort.sort()\n",
    "        right_sorted = right_merge_sort.sort()\n",
    "        return self._merge(left_sorted, right_sorted)\n",
    "\n",
    "\n",
    "class IterativeMergeSort(MergeSort2):\n",
    "    def sort(self) -> list:\n",
    "        if len(self.array) <= 1:\n",
    "            return self.array\n",
    "\n",
    "        queue = []\n",
    "\n",
    "        for item in self.array:\n",
    "            queue.append([item])\n",
    "\n",
    "        while len(queue) > 1:\n",
    "            first = queue.pop(0)\n",
    "            second = queue.pop(0)\n",
    "            merged = self._merge(first, second)\n",
    "            queue.append(merged)\n",
    "        return queue[0]\n"
   ]
  },
  {
   "cell_type": "markdown",
   "metadata": {},
   "source": [
    "### Output"
   ]
  },
  {
   "cell_type": "code",
   "execution_count": 29,
   "metadata": {},
   "outputs": [
    {
     "name": "stdout",
     "output_type": "stream",
     "text": [
      "[1, 2, 3, 4, 5, 6, 7, 8, 9, 10, 11, 12, 13, 14, 15, 16, 20]\n",
      "[1, 2, 3, 4, 5, 6, 7, 8, 9, 10, 11, 12, 13, 14, 15, 16, 20]\n"
     ]
    }
   ],
   "source": [
    "rec = RecursiveMergeSort(arr)\n",
    "ite = IterativeMergeSort(arr)\n",
    "print(rec.sort(), ite.sort(), sep='\\n')"
   ]
  },
  {
   "cell_type": "markdown",
   "metadata": {},
   "source": [
    "### 4-way merge sort"
   ]
  },
  {
   "cell_type": "code",
   "execution_count": 16,
   "metadata": {},
   "outputs": [],
   "source": [
    "def merge4(arr, start, first_quarter, midpoint, third_quarter, end):\n",
    "    leftest_arr = arr[start:first_quarter + 1]  \n",
    "    left_arr = arr[first_quarter + 1:midpoint + 1]\n",
    "    right_arr = arr[midpoint + 1:third_quarter + 1]\n",
    "    rightest_arr = arr[third_quarter + 1:end + 1]\n",
    "    \n",
    "    leftest_arr.append(float(\"inf\"))  \n",
    "    left_arr.append(float(\"inf\"))\n",
    "    right_arr.append(float(\"inf\"))\n",
    "    rightest_arr.append(float(\"inf\"))\n",
    "    \n",
    "    i = j = l = m = 0\n",
    "    \n",
    "    for k in range(start, end + 1): \n",
    "        if leftest_arr[i] <= left_arr[j] and leftest_arr[i] <= right_arr[l] and leftest_arr[i] <= rightest_arr[m]:\n",
    "            arr[k] = leftest_arr[i]\n",
    "            i += 1\n",
    "        elif left_arr[j] <= right_arr[l] and left_arr[j] <= rightest_arr[m]:\n",
    "            arr[k] = left_arr[j]\n",
    "            j += 1\n",
    "        elif right_arr[l] <= rightest_arr[m]:\n",
    "            arr[k] = right_arr[l]\n",
    "            l += 1\n",
    "        else:\n",
    "            arr[k] = rightest_arr[m]\n",
    "            m += 1\n",
    "\n",
    "\n",
    "def mergesort4(arr, start, end):\n",
    "    if end - start > 0:\n",
    "        midpoint = (start + end) // 2  \n",
    "        fq = (start + midpoint) // 2\n",
    "        tq = (midpoint + end) // 2\n",
    "        \n",
    "        mergesort4(arr, start, fq)\n",
    "        mergesort4(arr, fq + 1, midpoint)\n",
    "        mergesort4(arr, midpoint + 1, tq)\n",
    "        mergesort4(arr, tq + 1, end)\n",
    "        merge4(arr, start, fq, midpoint, tq, end)\n",
    "    \n",
    "    return arr"
   ]
  },
  {
   "cell_type": "markdown",
   "metadata": {},
   "source": [
    "### Output"
   ]
  },
  {
   "cell_type": "code",
   "execution_count": 17,
   "metadata": {},
   "outputs": [
    {
     "data": {
      "text/plain": [
       "[1, 2, 3, 4, 5, 6, 7, 8, 9, 10, 11, 12, 13, 14, 15, 16, 20]"
      ]
     },
     "execution_count": 17,
     "metadata": {},
     "output_type": "execute_result"
    }
   ],
   "source": [
    "mergesort4(arr, 0, len(arr) - 1)"
   ]
  },
  {
   "cell_type": "markdown",
   "metadata": {},
   "source": [
    "### 8-way merge sort"
   ]
  },
  {
   "cell_type": "code",
   "execution_count": 18,
   "metadata": {},
   "outputs": [],
   "source": [
    "# in work"
   ]
  },
  {
   "cell_type": "markdown",
   "metadata": {},
   "source": [
    "### k-way merge sort"
   ]
  },
  {
   "cell_type": "code",
   "execution_count": 19,
   "metadata": {},
   "outputs": [],
   "source": [
    "class KMergeSort:\n",
    "    def __init__(self, k):\n",
    "        self.k = k\n",
    "\n",
    "\n",
    "    def k_merge_sort(self, arr, k=None):\n",
    "        if len(arr) <= 1:\n",
    "            return arr\n",
    "        else:\n",
    "            n = len(arr)\n",
    "            chunk_size = n // self.k if n // self.k > 0 else 1\n",
    "            chunks = [arr[i:i+chunk_size] for i in range(0, n, chunk_size)]\n",
    "            sorted_chunks = [self.k_merge_sort(chunk, self.k) for chunk in chunks]\n",
    "            return self.merge(sorted_chunks)\n",
    "\n",
    "\n",
    "    def merge(self, sorted_chunks):\n",
    "        if len(sorted_chunks) == 1:\n",
    "            return sorted_chunks[0]\n",
    "        else:\n",
    "            mid = len(sorted_chunks) // 2\n",
    "            left = self.merge(sorted_chunks[:mid])\n",
    "            right = self.merge(sorted_chunks[mid:])\n",
    "            return self.merge_two_lists(left, right)\n",
    "\n",
    "\n",
    "    def merge_two_lists(self, left, right):\n",
    "        result = []\n",
    "        i = j = 0\n",
    "        while i < len(left) and j < len(right):\n",
    "            if left[i] < right[j]:\n",
    "                result.append(left[i])\n",
    "                i += 1\n",
    "            else:\n",
    "                result.append(right[j])\n",
    "                j += 1\n",
    "        result += left[i:]\n",
    "        result += right[j:]\n",
    "        return result"
   ]
  },
  {
   "cell_type": "markdown",
   "metadata": {},
   "source": [
    "### Output"
   ]
  },
  {
   "cell_type": "code",
   "execution_count": 20,
   "metadata": {},
   "outputs": [
    {
     "data": {
      "text/plain": [
       "[1, 2, 3, 4, 5, 6, 7, 8, 9, 10, 11, 12, 13, 14, 15, 16, 20]"
      ]
     },
     "execution_count": 20,
     "metadata": {},
     "output_type": "execute_result"
    }
   ],
   "source": [
    "ms = KMergeSort(6)\n",
    "array = ms.k_merge_sort(arr)\n",
    "array"
   ]
  }
 ],
 "metadata": {
  "kernelspec": {
   "display_name": "venv",
   "language": "python",
   "name": "python3"
  },
  "language_info": {
   "codemirror_mode": {
    "name": "ipython",
    "version": 3
   },
   "file_extension": ".py",
   "mimetype": "text/x-python",
   "name": "python",
   "nbconvert_exporter": "python",
   "pygments_lexer": "ipython3",
   "version": "3.8.0"
  },
  "orig_nbformat": 4
 },
 "nbformat": 4,
 "nbformat_minor": 2
}
