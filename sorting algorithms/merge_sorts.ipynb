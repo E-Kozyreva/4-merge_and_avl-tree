{
 "cells": [
  {
   "cell_type": "markdown",
   "metadata": {},
   "source": [
    "### Test data"
   ]
  },
  {
   "cell_type": "code",
   "execution_count": 27,
   "metadata": {},
   "outputs": [],
   "source": [
    "arr = [12, 11, 13, 5, 6, 7, 1, 2, 3, 4, 8, 9, 10, 14, 15, 16, 20]"
   ]
  },
  {
   "cell_type": "markdown",
   "metadata": {},
   "source": [
    "### 2-way merge sort"
   ]
  },
  {
   "cell_type": "code",
   "execution_count": 28,
   "metadata": {},
   "outputs": [],
   "source": [
    "def merge_sort(arr):\n",
    "    if len(arr) > 1:                              \n",
    "        mid = len(arr) // 2                      \n",
    "        left = arr[:mid]                          \n",
    "        right = arr[mid:]                         \n",
    "        \n",
    "        merge_sort(left)                          \n",
    "        merge_sort(right) \n",
    "        \n",
    "        i = j = k = 0                            \n",
    "         \n",
    "        while i < len(left) and j < len(right): \n",
    "            if left[i] < right[j]:               \n",
    "                arr[k] = left[i]                 \n",
    "                i+=1\n",
    "            else:\n",
    "                arr[k] = right[j]\n",
    "                j+=1\n",
    "            k+=1\n",
    "        \n",
    "        while i < len(left):\n",
    "            arr[k] = left[i]\n",
    "            i+=1\n",
    "            k+=1\n",
    "        \n",
    "        while j < len(right):\n",
    "            arr[k] = right[j]\n",
    "            j+=1\n",
    "            k+=1\n",
    "    \n",
    "    return arr"
   ]
  },
  {
   "cell_type": "markdown",
   "metadata": {},
   "source": [
    "### Output"
   ]
  },
  {
   "cell_type": "code",
   "execution_count": 29,
   "metadata": {},
   "outputs": [
    {
     "data": {
      "text/plain": [
       "[1, 2, 3, 4, 5, 6, 7, 8, 9, 10, 11, 12, 13, 14, 15, 16, 20]"
      ]
     },
     "execution_count": 29,
     "metadata": {},
     "output_type": "execute_result"
    }
   ],
   "source": [
    "merge_sort(arr)"
   ]
  },
  {
   "cell_type": "markdown",
   "metadata": {},
   "source": [
    "### 4-way merge sort"
   ]
  },
  {
   "cell_type": "code",
   "execution_count": 30,
   "metadata": {},
   "outputs": [],
   "source": [
    "def merge4(arr, start, first_quarter, midpoint, third_quarter, end):\n",
    "    leftest_arr = arr[start:first_quarter + 1]  \n",
    "    left_arr = arr[first_quarter + 1:midpoint + 1]\n",
    "    right_arr = arr[midpoint + 1:third_quarter + 1]\n",
    "    rightest_arr = arr[third_quarter + 1:end + 1]\n",
    "    \n",
    "    leftest_arr.append(float(\"inf\"))  \n",
    "    left_arr.append(float(\"inf\"))\n",
    "    right_arr.append(float(\"inf\"))\n",
    "    rightest_arr.append(float(\"inf\"))\n",
    "    \n",
    "    i = j = l = m = 0\n",
    "    \n",
    "    for k in range(start, end + 1): \n",
    "        if leftest_arr[i] <= left_arr[j] and leftest_arr[i] <= right_arr[l] and leftest_arr[i] <= rightest_arr[m]:\n",
    "            arr[k] = leftest_arr[i]\n",
    "            i += 1\n",
    "        elif left_arr[j] <= right_arr[l] and left_arr[j] <= rightest_arr[m]:\n",
    "            arr[k] = left_arr[j]\n",
    "            j += 1\n",
    "        elif right_arr[l] <= rightest_arr[m]:\n",
    "            arr[k] = right_arr[l]\n",
    "            l += 1\n",
    "        else:\n",
    "            arr[k] = rightest_arr[m]\n",
    "            m += 1\n",
    "\n",
    "\n",
    "def mergesort4(arr, start, end):\n",
    "    if end - start > 0:\n",
    "        midpoint = (start + end) // 2  \n",
    "        fq = (start + midpoint) // 2\n",
    "        tq = (midpoint + end) // 2\n",
    "        \n",
    "        mergesort4(arr, start, fq)\n",
    "        mergesort4(arr, fq + 1, midpoint)\n",
    "        mergesort4(arr, midpoint + 1, tq)\n",
    "        mergesort4(arr, tq + 1, end)\n",
    "        merge4(arr, start, fq, midpoint, tq, end)\n",
    "    \n",
    "    return arr"
   ]
  },
  {
   "cell_type": "markdown",
   "metadata": {},
   "source": [
    "### Output"
   ]
  },
  {
   "cell_type": "code",
   "execution_count": 31,
   "metadata": {},
   "outputs": [
    {
     "data": {
      "text/plain": [
       "[1, 2, 3, 4, 5, 6, 7, 8, 9, 10, 11, 12, 13]"
      ]
     },
     "execution_count": 31,
     "metadata": {},
     "output_type": "execute_result"
    }
   ],
   "source": [
    "mergesort4(numbers, 0, len(numbers) - 1)"
   ]
  },
  {
   "cell_type": "markdown",
   "metadata": {},
   "source": [
    "### 8-way merge sort"
   ]
  },
  {
   "cell_type": "code",
   "execution_count": null,
   "metadata": {},
   "outputs": [],
   "source": [
    "# in work"
   ]
  },
  {
   "cell_type": "markdown",
   "metadata": {},
   "source": [
    "### Links\n",
    "> https://www.worldcomp-proceedings.com/proc/p2011/PDP8400.pdf#:~:text=4%2Dway%20merge%20sort%2C%20different%20from,sort%20in%20the%20last%20step"
   ]
  }
 ],
 "metadata": {
  "kernelspec": {
   "display_name": "venv",
   "language": "python",
   "name": "python3"
  },
  "language_info": {
   "codemirror_mode": {
    "name": "ipython",
    "version": 3
   },
   "file_extension": ".py",
   "mimetype": "text/x-python",
   "name": "python",
   "nbconvert_exporter": "python",
   "pygments_lexer": "ipython3",
   "version": "3.8.0"
  },
  "orig_nbformat": 4
 },
 "nbformat": 4,
 "nbformat_minor": 2
}
